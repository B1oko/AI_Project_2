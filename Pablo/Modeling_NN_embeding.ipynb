{
 "cells": [
  {
   "cell_type": "code",
   "execution_count": 21,
   "metadata": {},
   "outputs": [],
   "source": [
    "import torch\n",
    "import torch.nn as nn\n",
    "import torch.optim as optim\n",
    "import numpy as np\n",
    "import pandas as pd\n",
    "from sklearn.model_selection import train_test_split\n",
    "from sklearn.preprocessing import StandardScaler\n",
    "\n",
    "import matplotlib.pyplot as plt\n",
    "from IPython.display import clear_output"
   ]
  },
  {
   "cell_type": "markdown",
   "metadata": {},
   "source": [
    "# Load Data"
   ]
  },
  {
   "cell_type": "code",
   "execution_count": 22,
   "metadata": {},
   "outputs": [],
   "source": [
    "# Load dataset\n",
    "data = pd.read_csv('../data/salary_data_clean.csv')"
   ]
  },
  {
   "cell_type": "markdown",
   "metadata": {},
   "source": [
    "## Create tensors"
   ]
  },
  {
   "cell_type": "code",
   "execution_count": 23,
   "metadata": {},
   "outputs": [],
   "source": [
    "X = data.drop(columns=['Salary','Job Title'], axis=1)  \n",
    "y = data['Salary'].values\n",
    "job_title = data['Job Title'].values"
   ]
  },
  {
   "cell_type": "code",
   "execution_count": 24,
   "metadata": {},
   "outputs": [],
   "source": [
    "# Por ejemplo, primero 80% train_val, 20% test\n",
    "X_train_val, X_test, job_title_train_val, job_title_test, y_train_val, y_test = train_test_split(\n",
    "    X, job_title, y, test_size=0.2, random_state=42\n",
    ")\n",
    "\n",
    "# Luego, dentro del train_val, reservar 25% para validación\n",
    "X_train, X_val, job_title_train, job_title_val, y_train, y_val = train_test_split(\n",
    "    X_train_val, job_title_train_val, y_train_val, test_size=0.25, random_state=42\n",
    ")"
   ]
  },
  {
   "cell_type": "code",
   "execution_count": 25,
   "metadata": {},
   "outputs": [],
   "source": [
    "# Escalar únicamente las variables numéricas\n",
    "scaler = StandardScaler()\n",
    "X_train = scaler.fit_transform(X_train)\n",
    "X_val = scaler.transform(X_val)\n",
    "X_test = scaler.transform(X_test)\n"
   ]
  },
  {
   "cell_type": "code",
   "execution_count": 26,
   "metadata": {},
   "outputs": [],
   "source": [
    "# Convertir cada parte a tensores\n",
    "\n",
    "# -- Tensores numéricos --\n",
    "X_train_tensor = torch.tensor(X_train, dtype=torch.float32)\n",
    "X_val_tensor   = torch.tensor(X_val,   dtype=torch.float32)\n",
    "X_test_tensor  = torch.tensor(X_test,  dtype=torch.float32)\n",
    "\n",
    "# -- Tensores de la variable categórica (dtype long) --\n",
    "job_title_train_tensor = torch.tensor(job_title_train, dtype=torch.long)\n",
    "job_title_val_tensor   = torch.tensor(job_title_val,   dtype=torch.long)\n",
    "job_title_test_tensor  = torch.tensor(job_title_test,  dtype=torch.long)\n",
    "\n",
    "# -- Tensores del target --\n",
    "y_train_tensor = torch.tensor(y_train, dtype=torch.float32).view(-1, 1)\n",
    "y_val_tensor   = torch.tensor(y_val,   dtype=torch.float32).view(-1, 1)\n",
    "y_test_tensor  = torch.tensor(y_test,  dtype=torch.float32).view(-1, 1)\n"
   ]
  },
  {
   "cell_type": "markdown",
   "metadata": {},
   "source": [
    "# Modeling"
   ]
  },
  {
   "cell_type": "code",
   "execution_count": 27,
   "metadata": {},
   "outputs": [],
   "source": [
    "# Definir el modelo de red neuronal\n",
    "class RegressionNN(nn.Module):\n",
    "    def __init__(self):\n",
    "        super(RegressionNN, self).__init__()\n",
    "        self.fc1 = nn.Linear(13, 16)\n",
    "        self.fc2 = nn.Linear(16, 8)\n",
    "        self.fc3 = nn.Linear(8, 1)\n",
    "        self.relu = nn.ReLU()\n",
    "    \n",
    "    def forward(self, x):\n",
    "        x = self.relu(self.fc1(x))\n",
    "        x = self.relu(self.fc2(x))\n",
    "        x = self.fc3(x)\n",
    "        return x"
   ]
  },
  {
   "cell_type": "code",
   "execution_count": 32,
   "metadata": {},
   "outputs": [],
   "source": [
    "class RegressionEmbeddingNN(nn.Module):\n",
    "    NUM_FEATURES = 13\n",
    "    NUM_JOB_TITLES = 191\n",
    "    EMBEDDING_DIMENSIONS = 10\n",
    "\n",
    "\n",
    "    def __init__(self):\n",
    "        super().__init__()\n",
    "        self.embedding = nn.Embedding(num_embeddings=self.NUM_JOB_TITLES, embedding_dim=self.EMBEDDING_DIMENSIONS)\n",
    "        \n",
    "        self.fc1 = nn.Linear(self.NUM_FEATURES + self.EMBEDDING_DIMENSIONS - 1, 16)\n",
    "        self.fc2 = nn.Linear(16, 8)\n",
    "        self.fc3 = nn.Linear(8, 1)\n",
    "\n",
    "        self.relu = nn.ReLU()\n",
    "\n",
    "    def forward(self, x, x_job_title):\n",
    "        emb = self.embedding(x_job_title)\n",
    "        emb = emb.view(emb.size(0), -1)  \n",
    "        x = torch.cat([x, emb], dim=1)  # concatenamos\n",
    "\n",
    "        x = self.relu(self.fc1(x))\n",
    "        x = self.relu(self.fc2(x))\n",
    "        x = self.fc3(x)\n",
    "        return x"
   ]
  },
  {
   "cell_type": "code",
   "execution_count": 37,
   "metadata": {},
   "outputs": [],
   "source": [
    "\n",
    "# Inicializar modelo, pérdida y optimizador\n",
    "# model = RegressionNN()\n",
    "model = RegressionEmbeddingNN()\n",
    "criterion = nn.MSELoss()\n",
    "optimizer = optim.Adam(model.parameters(), lr=1e-3)"
   ]
  },
  {
   "cell_type": "code",
   "execution_count": 38,
   "metadata": {},
   "outputs": [
    {
     "name": "stdout",
     "output_type": "stream",
     "text": [
      "Epoch [50000/50000] Train Loss: 327139936.0000 Val Loss: 593719616.0000\n"
     ]
    },
    {
     "data": {
      "image/png": "[encoded data removed]",
      "text/plain": [
       "<Figure size 640x480 with 1 Axes>"
      ]
     },
     "metadata": {},
     "output_type": "display_data"
    }
   ],
   "source": [
    "# Entrenamiento del modelo\n",
    "epochs = 50000  # Ajusta según tu caso\n",
    "log_interval = 500\n",
    "\n",
    "train_loss_values = []\n",
    "val_loss_values = []\n",
    "\n",
    "\n",
    "for epoch in range(epochs):\n",
    "    # --- TRAIN PHASE ---\n",
    "    model.train()\n",
    "    optimizer.zero_grad()\n",
    "\n",
    "    # 1) Forward (asegúrate de pasar las 2 entradas: X, job_title)\n",
    "    # predictions = model(X_train_tensor)\n",
    "    predictions = model(X_train_tensor, job_title_train_tensor)\n",
    "    \n",
    "    # 2) Cálculo de la pérdida en entrenamiento\n",
    "    train_loss = criterion(predictions, y_train_tensor)\n",
    "\n",
    "    # 3) Backprop\n",
    "    train_loss.backward()\n",
    "\n",
    "    # 4) Actualización de parámetros\n",
    "    optimizer.step()\n",
    "    \n",
    "    # --- VALIDATION PHASE (cada X iteraciones) ---\n",
    "    if (epoch + 1) % log_interval == 0:\n",
    "        model.eval()\n",
    "        with torch.no_grad():\n",
    "            val_predictions = model(X_val_tensor, job_title_val_tensor)\n",
    "            val_loss = criterion(val_predictions, y_val_tensor)\n",
    "\n",
    "        # Almaceno valores de pérdida para gráficas\n",
    "        train_loss_values.append(train_loss.item())\n",
    "        val_loss_values.append(val_loss.item())\n",
    "\n",
    "        # Mostrar progreso\n",
    "        print(f\"Epoch [{epoch+1}/{epochs}] \"\n",
    "              f\"Train Loss: {train_loss.item():.4f} \"\n",
    "              f\"Val Loss: {val_loss.item():.4f}\")\n",
    "\n",
    "        # (Opcional) Gráfica de pérdidas en tiempo real\n",
    "        fig = plt.figure()\n",
    "        plt.plot(train_loss_values, label='Train Loss')\n",
    "        plt.plot(val_loss_values, label='Val Loss')\n",
    "        plt.legend()\n",
    "        plt.title(\"MSE Loss\")\n",
    "        plt.show()\n",
    "        clear_output(wait=True)"
   ]
  },
  {
   "cell_type": "code",
   "execution_count": 39,
   "metadata": {},
   "outputs": [
    {
     "name": "stdout",
     "output_type": "stream",
     "text": [
      "Test Loss: 813944128.0000\n"
     ]
    }
   ],
   "source": [
    "\n",
    "# Evaluación del modelo\n",
    "model.eval()\n",
    "with torch.no_grad():\n",
    "    y_pred_test = model(X_test_tensor, job_title_test_tensor)\n",
    "    test_loss = criterion(y_pred_test, y_test_tensor)\n",
    "    print(f'Test Loss: {test_loss.item():.4f}')"
   ]
  },
  {
   "cell_type": "markdown",
   "metadata": {},
   "source": [
    "## Evaluación"
   ]
  },
  {
   "cell_type": "code",
   "execution_count": null,
   "metadata": {},
   "outputs": [],
   "source": []
  }
 ],
 "metadata": {
  "kernelspec": {
   "display_name": "pythorch",
   "language": "python",
   "name": "python3"
  },
  "language_info": {
   "codemirror_mode": {
    "name": "ipython",
    "version": 3
   },
   "file_extension": ".py",
   "mimetype": "text/x-python",
   "name": "python",
   "nbconvert_exporter": "python",
   "pygments_lexer": "ipython3",
   "version": "3.12.8"
  }
 },
 "nbformat": 4,
 "nbformat_minor": 2
}
